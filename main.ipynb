{
 "cells": [
  {
   "cell_type": "code",
   "execution_count": 424,
   "metadata": {},
   "outputs": [],
   "source": [
    "# Import libraries\n",
    "import pandas as pd\n",
    "import numpy as np\n",
    "import matplotlib as plt\n",
    "import plotly.express as px\n",
    "import seaborn as sns\n",
    "from plotly.offline import iplot,plot\n",
    "from plotly.subplots import make_subplots\n",
    "from warnings import filterwarnings"
   ]
  },
  {
   "cell_type": "code",
   "execution_count": 425,
   "metadata": {},
   "outputs": [],
   "source": [
    "# Disable filter warning\n",
    "filterwarnings('ignore')"
   ]
  },
  {
   "cell_type": "code",
   "execution_count": 426,
   "metadata": {},
   "outputs": [
    {
     "data": {
      "text/html": [
       "<div>\n",
       "<style scoped>\n",
       "    .dataframe tbody tr th:only-of-type {\n",
       "        vertical-align: middle;\n",
       "    }\n",
       "\n",
       "    .dataframe tbody tr th {\n",
       "        vertical-align: top;\n",
       "    }\n",
       "\n",
       "    .dataframe thead th {\n",
       "        text-align: right;\n",
       "    }\n",
       "</style>\n",
       "<table border=\"1\" class=\"dataframe\">\n",
       "  <thead>\n",
       "    <tr style=\"text-align: right;\">\n",
       "      <th></th>\n",
       "      <th>Unnamed: 0</th>\n",
       "      <th>Brand</th>\n",
       "      <th>Model Name</th>\n",
       "      <th>Processor</th>\n",
       "      <th>Operating System</th>\n",
       "      <th>Storage</th>\n",
       "      <th>RAM</th>\n",
       "      <th>Screen Size</th>\n",
       "      <th>Touch_Screen</th>\n",
       "      <th>Price</th>\n",
       "    </tr>\n",
       "  </thead>\n",
       "  <tbody>\n",
       "    <tr>\n",
       "      <th>160</th>\n",
       "      <td>160</td>\n",
       "      <td>Lenovo</td>\n",
       "      <td>15ARH7</td>\n",
       "      <td>Ryzen 5 Hexa Core</td>\n",
       "      <td>Windows 11 Home</td>\n",
       "      <td>512 GB</td>\n",
       "      <td>16 GB</td>\n",
       "      <td>39.62 cm (15.6 Inch)</td>\n",
       "      <td>No</td>\n",
       "      <td>₹56,990</td>\n",
       "    </tr>\n",
       "    <tr>\n",
       "      <th>820</th>\n",
       "      <td>820</td>\n",
       "      <td>HP</td>\n",
       "      <td>16-n0050AX</td>\n",
       "      <td>Ryzen 7 Octa Core</td>\n",
       "      <td>Windows 11 Home</td>\n",
       "      <td>512 GB</td>\n",
       "      <td>16 GB</td>\n",
       "      <td>40.89 cm (16.1 Inch)</td>\n",
       "      <td>No</td>\n",
       "      <td>₹88,149</td>\n",
       "    </tr>\n",
       "    <tr>\n",
       "      <th>498</th>\n",
       "      <td>498</td>\n",
       "      <td>HP</td>\n",
       "      <td>15-fd0022TU</td>\n",
       "      <td>Core i5</td>\n",
       "      <td>Windows 11 Home</td>\n",
       "      <td>512 GB</td>\n",
       "      <td>8 GB</td>\n",
       "      <td>39.62 cm (15.6 Inch)</td>\n",
       "      <td>No</td>\n",
       "      <td>₹60,490</td>\n",
       "    </tr>\n",
       "    <tr>\n",
       "      <th>591</th>\n",
       "      <td>591</td>\n",
       "      <td>Acer</td>\n",
       "      <td>EX215-54</td>\n",
       "      <td>Core i3</td>\n",
       "      <td>Windows 11 Home</td>\n",
       "      <td>256 GB</td>\n",
       "      <td>4 GB</td>\n",
       "      <td>39.62 cm (15.6 inch)</td>\n",
       "      <td>No</td>\n",
       "      <td>₹29,500</td>\n",
       "    </tr>\n",
       "    <tr>\n",
       "      <th>569</th>\n",
       "      <td>569</td>\n",
       "      <td>GIGABYTE</td>\n",
       "      <td>AORUS 15 BKF</td>\n",
       "      <td>Core i7</td>\n",
       "      <td>Windows 11 Pro</td>\n",
       "      <td>1 TB</td>\n",
       "      <td>16 GB</td>\n",
       "      <td>39.62 cm (15.6 Inch)</td>\n",
       "      <td>No</td>\n",
       "      <td>₹1,48,990</td>\n",
       "    </tr>\n",
       "  </tbody>\n",
       "</table>\n",
       "</div>"
      ],
      "text/plain": [
       "     Unnamed: 0     Brand    Model Name          Processor Operating System  \\\n",
       "160         160    Lenovo        15ARH7  Ryzen 5 Hexa Core  Windows 11 Home   \n",
       "820         820        HP    16-n0050AX  Ryzen 7 Octa Core  Windows 11 Home   \n",
       "498         498        HP   15-fd0022TU            Core i5  Windows 11 Home   \n",
       "591         591      Acer      EX215-54            Core i3  Windows 11 Home   \n",
       "569         569  GIGABYTE  AORUS 15 BKF            Core i7   Windows 11 Pro   \n",
       "\n",
       "    Storage    RAM           Screen Size Touch_Screen      Price  \n",
       "160  512 GB  16 GB  39.62 cm (15.6 Inch)           No    ₹56,990  \n",
       "820  512 GB  16 GB  40.89 cm (16.1 Inch)           No    ₹88,149  \n",
       "498  512 GB   8 GB  39.62 cm (15.6 Inch)           No    ₹60,490  \n",
       "591  256 GB   4 GB  39.62 cm (15.6 inch)           No    ₹29,500  \n",
       "569    1 TB  16 GB  39.62 cm (15.6 Inch)           No  ₹1,48,990  "
      ]
     },
     "execution_count": 426,
     "metadata": {},
     "output_type": "execute_result"
    }
   ],
   "source": [
    "# Read dataframe\n",
    "data = pd.read_csv('laptopi.csv')\n",
    "data.sample(5)"
   ]
  },
  {
   "cell_type": "code",
   "execution_count": 427,
   "metadata": {},
   "outputs": [
    {
     "name": "stdout",
     "output_type": "stream",
     "text": [
      "<class 'pandas.core.frame.DataFrame'>\n",
      "RangeIndex: 837 entries, 0 to 836\n",
      "Data columns (total 10 columns):\n",
      " #   Column            Non-Null Count  Dtype \n",
      "---  ------            --------------  ----- \n",
      " 0   Unnamed: 0        837 non-null    int64 \n",
      " 1   Brand             837 non-null    object\n",
      " 2   Model Name        837 non-null    object\n",
      " 3   Processor         837 non-null    object\n",
      " 4   Operating System  837 non-null    object\n",
      " 5   Storage           825 non-null    object\n",
      " 6   RAM               837 non-null    object\n",
      " 7   Screen Size       837 non-null    object\n",
      " 8   Touch_Screen      837 non-null    object\n",
      " 9   Price             837 non-null    object\n",
      "dtypes: int64(1), object(9)\n",
      "memory usage: 65.5+ KB\n"
     ]
    }
   ],
   "source": [
    "# Get data info\n",
    "data.info()"
   ]
  },
  {
   "cell_type": "code",
   "execution_count": 428,
   "metadata": {},
   "outputs": [
    {
     "data": {
      "text/plain": [
       "0"
      ]
     },
     "execution_count": 428,
     "metadata": {},
     "output_type": "execute_result"
    }
   ],
   "source": [
    "# Check duplicated value\n",
    "data.duplicated().sum()"
   ]
  },
  {
   "cell_type": "code",
   "execution_count": 429,
   "metadata": {},
   "outputs": [
    {
     "data": {
      "text/plain": [
       "Unnamed: 0           0\n",
       "Brand                0\n",
       "Model Name           0\n",
       "Processor            0\n",
       "Operating System     0\n",
       "Storage             12\n",
       "RAM                  0\n",
       "Screen Size          0\n",
       "Touch_Screen         0\n",
       "Price                0\n",
       "dtype: int64"
      ]
     },
     "execution_count": 429,
     "metadata": {},
     "output_type": "execute_result"
    }
   ],
   "source": [
    "# Check null values\n",
    "data.isnull().sum()"
   ]
  },
  {
   "cell_type": "code",
   "execution_count": 430,
   "metadata": {},
   "outputs": [
    {
     "data": {
      "text/plain": [
       "(825, 10)"
      ]
     },
     "execution_count": 430,
     "metadata": {},
     "output_type": "execute_result"
    }
   ],
   "source": [
    "# Remove row with null values\n",
    "data.dropna(inplace=True)\n",
    "data.shape"
   ]
  },
  {
   "cell_type": "code",
   "execution_count": 431,
   "metadata": {},
   "outputs": [],
   "source": [
    "# Remove unnamed column\n",
    "data.drop(columns='Unnamed: 0',inplace=True)"
   ]
  },
  {
   "cell_type": "code",
   "execution_count": 432,
   "metadata": {},
   "outputs": [
    {
     "data": {
      "text/plain": [
       "Processor\n",
       "Core i5                   361\n",
       "Core i3                   159\n",
       "Ryzen 5 Hexa Core          81\n",
       "Core i7                    68\n",
       "Ryzen 7 Octa Core          67\n",
       "Celeron Dual Core          15\n",
       "Ryzen 3 Quad Core          13\n",
       "Celeron Quad Core          10\n",
       "Ryzen 5 Quad Core          10\n",
       "Ryzen 3 Dual Core           7\n",
       "Core i9                     4\n",
       "Pentium Silver              4\n",
       "M2                          3\n",
       "Athlon Dual Core            3\n",
       "M1                          3\n",
       "Ryzen 9 Octa Core           2\n",
       "Ryzen 5                     2\n",
       "M1 Max                      1\n",
       "Ryzen 5 Dual Core           1\n",
       "Ryzen 7 Quad Core           1\n",
       "M1 Pro                      1\n",
       "M3 Pro                      1\n",
       "M2 Max                      1\n",
       "MediaTek MT8788             1\n",
       "Ryzen Z1 Octa Core          1\n",
       "MediaTek Kompanio 520       1\n",
       "MediaTek Kompanio 500       1\n",
       "Ryzen Z1 HexaCore           1\n",
       "MediaTek Kompanio 1200      1\n",
       "Ryzen 9 16 Core             1\n",
       "Name: count, dtype: int64"
      ]
     },
     "execution_count": 432,
     "metadata": {},
     "output_type": "execute_result"
    }
   ],
   "source": [
    "# Pre Edit Processeur Column\n",
    "data['Processor'].value_counts()"
   ]
  },
  {
   "cell_type": "code",
   "execution_count": 433,
   "metadata": {},
   "outputs": [],
   "source": [
    "# Edit Processor Column\n",
    "data[\"Processor\"] = data['Processor'].apply(lambda x:\" \".join(x.split()[0:2]))"
   ]
  },
  {
   "cell_type": "code",
   "execution_count": 434,
   "metadata": {},
   "outputs": [
    {
     "data": {
      "text/plain": [
       "Processor\n",
       "Core i5              361\n",
       "Core i3              159\n",
       "Ryzen 5               94\n",
       "Core i7               68\n",
       "Ryzen 7               68\n",
       "Ryzen 3               20\n",
       "Celeron Dual          15\n",
       "Celeron Quad          10\n",
       "Pentium Silver         4\n",
       "Core i9                4\n",
       "Ryzen 9                3\n",
       "Athlon Dual            3\n",
       "MediaTek Kompanio      3\n",
       "M1                     3\n",
       "M2                     3\n",
       "Ryzen Z1               2\n",
       "MediaTek MT8788        1\n",
       "M1 Max                 1\n",
       "M2 Max                 1\n",
       "M3 Pro                 1\n",
       "M1 Pro                 1\n",
       "Name: count, dtype: int64"
      ]
     },
     "execution_count": 434,
     "metadata": {},
     "output_type": "execute_result"
    }
   ],
   "source": [
    "# Post Edit Processor Column\n",
    "data['Processor'].value_counts()"
   ]
  },
  {
   "cell_type": "code",
   "execution_count": 435,
   "metadata": {},
   "outputs": [],
   "source": [
    "# Adding Processor Manufacturer Column\n",
    "data['Processor Manufcaturer']=data['Processor']"
   ]
  },
  {
   "cell_type": "code",
   "execution_count": 436,
   "metadata": {},
   "outputs": [],
   "source": [
    "# Edit  Processor Manufcaturer Column\n",
    "def processor_manufactuer(data):\n",
    "    if 'core' in data.lower():\n",
    "        return 'Intel'\n",
    "    elif 'ryzen' in data.lower():\n",
    "        return 'Amd'\n",
    "    elif any (m in data for m in [\"M1\", \"M2\", \"M3\"]):\n",
    "        return 'Mac'\n",
    "    else:\n",
    "        return 'Others'\n",
    "\n",
    "data['Processor Manufcaturer']=data['Processor Manufcaturer'].apply(processor_manufactuer)"
   ]
  },
  {
   "cell_type": "code",
   "execution_count": 437,
   "metadata": {},
   "outputs": [
    {
     "data": {
      "text/plain": [
       "Processor Manufcaturer\n",
       "Intel     592\n",
       "Amd       187\n",
       "Others     36\n",
       "Mac        10\n",
       "Name: count, dtype: int64"
      ]
     },
     "execution_count": 437,
     "metadata": {},
     "output_type": "execute_result"
    }
   ],
   "source": [
    "# Post Edit Processor Manufacturer Column\n",
    "data['Processor Manufcaturer'].value_counts()"
   ]
  },
  {
   "cell_type": "code",
   "execution_count": 438,
   "metadata": {},
   "outputs": [
    {
     "data": {
      "text/plain": [
       "Operating System\n",
       "Windows 11 Home    747\n",
       "Windows 10 Home     27\n",
       "Chrome              13\n",
       "Windows 10          10\n",
       "DOS                  7\n",
       "Mac OS Monterey      5\n",
       "Windows 11 Pro       5\n",
       "Mac OS Big Sur       3\n",
       "Windows 10 Pro       3\n",
       "Prime OS             1\n",
       "Ubuntu               1\n",
       "macOS Ventura        1\n",
       "macOS Sonoma         1\n",
       "Mac OS Mojave        1\n",
       "Name: count, dtype: int64"
      ]
     },
     "execution_count": 438,
     "metadata": {},
     "output_type": "execute_result"
    }
   ],
   "source": [
    "# Pre Edit Operation System Column\n",
    "data['Operating System'].value_counts()"
   ]
  },
  {
   "cell_type": "code",
   "execution_count": 439,
   "metadata": {},
   "outputs": [],
   "source": [
    "# Edit Operation System Column\n",
    "def operationsystem(data):\n",
    "    if 'windows' in data.lower():\n",
    "        return 'Windows OS'\n",
    "    elif 'mac' in data.lower():\n",
    "        return 'Mac OS'\n",
    "    elif 'chrome' in  data.lower():\n",
    "        return 'Chrome OS'\n",
    "    else:\n",
    "        return 'Others'\n",
    "\n",
    "data['Operating System']=data['Operating System'].apply(operationsystem)"
   ]
  },
  {
   "cell_type": "code",
   "execution_count": 440,
   "metadata": {},
   "outputs": [
    {
     "data": {
      "text/plain": [
       "Operating System\n",
       "Windows OS    792\n",
       "Chrome OS      13\n",
       "Mac OS         11\n",
       "Others          9\n",
       "Name: count, dtype: int64"
      ]
     },
     "execution_count": 440,
     "metadata": {},
     "output_type": "execute_result"
    }
   ],
   "source": [
    "# Post Edit Operation System Column\n",
    "data['Operating System'].value_counts()"
   ]
  },
  {
   "cell_type": "code",
   "execution_count": 441,
   "metadata": {},
   "outputs": [
    {
     "data": {
      "text/plain": [
       "Storage\n",
       "512 GB    627\n",
       "1 TB      101\n",
       "256 GB     49\n",
       "2 TB       20\n",
       "128 GB     12\n",
       "4 TB       10\n",
       "64 GB       4\n",
       "3 TB        1\n",
       "6 TB        1\n",
       "Name: count, dtype: int64"
      ]
     },
     "execution_count": 441,
     "metadata": {},
     "output_type": "execute_result"
    }
   ],
   "source": [
    "# Pre Edit Storage Column\n",
    "data['Storage'].value_counts()"
   ]
  },
  {
   "cell_type": "code",
   "execution_count": 442,
   "metadata": {},
   "outputs": [],
   "source": [
    "# Edit Storage Column\n",
    "data['Storage']=data['Storage'].str.replace('GB','')\n",
    "data['Storage']=data['Storage'].str.replace('TB','000')\n",
    "data['Storage']=data['Storage'].str.replace(' ','')\n",
    "data['Storage']=data['Storage'].astype(int)"
   ]
  },
  {
   "cell_type": "code",
   "execution_count": 443,
   "metadata": {},
   "outputs": [
    {
     "data": {
      "text/plain": [
       "Storage\n",
       "512     627\n",
       "1000    101\n",
       "256      49\n",
       "2000     20\n",
       "128      12\n",
       "4000     10\n",
       "64        4\n",
       "3000      1\n",
       "6000      1\n",
       "Name: count, dtype: int64"
      ]
     },
     "execution_count": 443,
     "metadata": {},
     "output_type": "execute_result"
    }
   ],
   "source": [
    "# Post Edit Storage Column\n",
    "data['Storage'].value_counts()"
   ]
  },
  {
   "cell_type": "code",
   "execution_count": 444,
   "metadata": {},
   "outputs": [
    {
     "data": {
      "text/plain": [
       "RAM\n",
       "8 GB     414\n",
       "16 GB    373\n",
       "4 GB      24\n",
       "32 GB      9\n",
       "12 GB      2\n",
       "64 GB      2\n",
       "18 GB      1\n",
       "Name: count, dtype: int64"
      ]
     },
     "execution_count": 444,
     "metadata": {},
     "output_type": "execute_result"
    }
   ],
   "source": [
    "# Pre Edit Ram Column\n",
    "data['RAM'].value_counts()"
   ]
  },
  {
   "cell_type": "code",
   "execution_count": 445,
   "metadata": {},
   "outputs": [],
   "source": [
    "# Edit Ram Column\n",
    "data['RAM']=data['RAM'].str.replace('GB','')\n",
    "data['RAM']=data['RAM'].astype(int)"
   ]
  },
  {
   "cell_type": "code",
   "execution_count": 446,
   "metadata": {},
   "outputs": [
    {
     "data": {
      "text/plain": [
       "RAM\n",
       "8     414\n",
       "16    373\n",
       "4      24\n",
       "32      9\n",
       "12      2\n",
       "64      2\n",
       "18      1\n",
       "Name: count, dtype: int64"
      ]
     },
     "execution_count": 446,
     "metadata": {},
     "output_type": "execute_result"
    }
   ],
   "source": [
    "# Post Edit Ram Column\n",
    "data['RAM'].value_counts()"
   ]
  },
  {
   "cell_type": "code",
   "execution_count": 447,
   "metadata": {},
   "outputs": [
    {
     "data": {
      "text/plain": [
       "Screen Size\n",
       "39.62 cm (15.6 Inch)     363\n",
       "39.62 cm (15.6 inch)     184\n",
       "35.56 cm (14 inch)       124\n",
       "35.56 cm (14 Inch)        49\n",
       "40.64 cm (16 Inch)        19\n",
       "33.78 cm (13.3 inch)      10\n",
       "40.64 cm (16 inch)         8\n",
       "40.89 cm (16.1 Inch)       7\n",
       "43.94 cm (17.3 Inch)       6\n",
       "33.78 cm (13.3 Inch)       6\n",
       "96.52 cm (38 cm)           6\n",
       "38.1 cm (15 inch)          4\n",
       "35.81 cm (14.1 inch)       3\n",
       "40.89 cm (16.1 inch)       3\n",
       "39.01 cm (15.36 inch)      3\n",
       "34.29 cm (13.5 inch)       3\n",
       "35.81 cm (14.1 Inch)       2\n",
       "33.02 cm (13 inch)         2\n",
       "100.63 cm (39.62 cm)       2\n",
       "17.78 cm (7 Inch)          2\n",
       "43.94 cm (17.3 inch)       2\n",
       "34.29 cm (13.5 Inch)       2\n",
       "38.86 cm (15.3 Inch)       1\n",
       "31.5 cm (12.4 Inch)        1\n",
       "36.07 cm (14.2 inch)       1\n",
       "38.0 cm (14.96 cm)         1\n",
       "90.32 cm (35.56 cm)        1\n",
       "30.48 cm (12 inch)         1\n",
       "29.46 cm (11.6 Inch)       1\n",
       "41.15 cm (16.2 inch)       1\n",
       "34.04 cm (13.4 inch)       1\n",
       "35.0 cm (13.78 inch)       1\n",
       "34.04 cm (13.4 Inch)       1\n",
       "26.67 cm (10.5 inch)       1\n",
       "38.0 cm (14.96 Inch)       1\n",
       "34.54 cm (13.6 Inch)       1\n",
       "29.46 cm (11.6 inch)       1\n",
       "Name: count, dtype: int64"
      ]
     },
     "execution_count": 447,
     "metadata": {},
     "output_type": "execute_result"
    }
   ],
   "source": [
    "# Pre Edit Screen Size Column\n",
    "data['Screen Size'].value_counts()"
   ]
  },
  {
   "cell_type": "code",
   "execution_count": 448,
   "metadata": {},
   "outputs": [],
   "source": [
    "# Edit Screen Size Column\n",
    "data['Screen Size'] = data['Screen Size'].apply(lambda x:''.join(x.split(' ')[0]))\n",
    "data['Screen Size']= data['Screen Size'].astype(float)"
   ]
  },
  {
   "cell_type": "code",
   "execution_count": 449,
   "metadata": {},
   "outputs": [
    {
     "data": {
      "text/plain": [
       "Screen Size\n",
       "39.62     547\n",
       "35.56     173\n",
       "40.64      27\n",
       "33.78      16\n",
       "40.89      10\n",
       "43.94       8\n",
       "96.52       6\n",
       "35.81       5\n",
       "34.29       5\n",
       "38.10       4\n",
       "39.01       3\n",
       "17.78       2\n",
       "33.02       2\n",
       "34.04       2\n",
       "29.46       2\n",
       "38.00       2\n",
       "100.63      2\n",
       "26.67       1\n",
       "34.54       1\n",
       "35.00       1\n",
       "41.15       1\n",
       "90.32       1\n",
       "30.48       1\n",
       "38.86       1\n",
       "36.07       1\n",
       "31.50       1\n",
       "Name: count, dtype: int64"
      ]
     },
     "execution_count": 449,
     "metadata": {},
     "output_type": "execute_result"
    }
   ],
   "source": [
    "# Post Edit Screen Size Column\n",
    "data['Screen Size'].value_counts()"
   ]
  },
  {
   "cell_type": "code",
   "execution_count": 450,
   "metadata": {},
   "outputs": [
    {
     "data": {
      "text/plain": [
       "Price\n",
       "₹53,990      65\n",
       "₹37,990      42\n",
       "₹54,990      41\n",
       "₹49,990      40\n",
       "₹38,990      38\n",
       "             ..\n",
       "₹52,890       1\n",
       "₹1,47,743     1\n",
       "₹64,600       1\n",
       "₹1,99,990     1\n",
       "₹70,500       1\n",
       "Name: count, Length: 269, dtype: int64"
      ]
     },
     "execution_count": 450,
     "metadata": {},
     "output_type": "execute_result"
    }
   ],
   "source": [
    "# Pre Edit Price Column\n",
    "data['Price'].value_counts()"
   ]
  },
  {
   "cell_type": "code",
   "execution_count": 451,
   "metadata": {},
   "outputs": [],
   "source": [
    "# Edit Price Column\n",
    "data['Price']=data['Price'].str.replace('₹','')\n",
    "data['Price']=data['Price'].str.replace(',','')\n",
    "data['Price']=data['Price'].astype(int)\n",
    "data['Price']=data['Price']*0.0120648 #Conversion From Indian Rupees to US Dollar\n",
    "data['Price']=round(data['Price'],2) #Round values"
   ]
  },
  {
   "cell_type": "code",
   "execution_count": 452,
   "metadata": {},
   "outputs": [
    {
     "data": {
      "text/plain": [
       "Price\n",
       "651.38     65\n",
       "458.34     42\n",
       "663.44     41\n",
       "603.12     40\n",
       "470.41     38\n",
       "           ..\n",
       "638.11      1\n",
       "1782.49     1\n",
       "779.39      1\n",
       "2412.84     1\n",
       "850.57      1\n",
       "Name: count, Length: 269, dtype: int64"
      ]
     },
     "execution_count": 452,
     "metadata": {},
     "output_type": "execute_result"
    }
   ],
   "source": [
    "# Post Edit Price Column\n",
    "data['Price'].value_counts()"
   ]
  },
  {
   "cell_type": "code",
   "execution_count": 453,
   "metadata": {},
   "outputs": [
    {
     "data": {
      "text/html": [
       "<div>\n",
       "<style scoped>\n",
       "    .dataframe tbody tr th:only-of-type {\n",
       "        vertical-align: middle;\n",
       "    }\n",
       "\n",
       "    .dataframe tbody tr th {\n",
       "        vertical-align: top;\n",
       "    }\n",
       "\n",
       "    .dataframe thead th {\n",
       "        text-align: right;\n",
       "    }\n",
       "</style>\n",
       "<table border=\"1\" class=\"dataframe\">\n",
       "  <thead>\n",
       "    <tr style=\"text-align: right;\">\n",
       "      <th></th>\n",
       "      <th>Brand</th>\n",
       "      <th>Model Name</th>\n",
       "      <th>Processor</th>\n",
       "      <th>Operating System</th>\n",
       "      <th>Storage</th>\n",
       "      <th>RAM</th>\n",
       "      <th>Screen Size</th>\n",
       "      <th>Touch_Screen</th>\n",
       "      <th>Price</th>\n",
       "      <th>Processor Manufcaturer</th>\n",
       "    </tr>\n",
       "  </thead>\n",
       "  <tbody>\n",
       "    <tr>\n",
       "      <th>0</th>\n",
       "      <td>HP</td>\n",
       "      <td>15s-fq5007TU</td>\n",
       "      <td>Core i3</td>\n",
       "      <td>Windows OS</td>\n",
       "      <td>512</td>\n",
       "      <td>8</td>\n",
       "      <td>39.62</td>\n",
       "      <td>No</td>\n",
       "      <td>470.41</td>\n",
       "      <td>Intel</td>\n",
       "    </tr>\n",
       "    <tr>\n",
       "      <th>1</th>\n",
       "      <td>HP</td>\n",
       "      <td>15s-fy5003TU</td>\n",
       "      <td>Core i3</td>\n",
       "      <td>Windows OS</td>\n",
       "      <td>512</td>\n",
       "      <td>8</td>\n",
       "      <td>39.62</td>\n",
       "      <td>No</td>\n",
       "      <td>458.34</td>\n",
       "      <td>Intel</td>\n",
       "    </tr>\n",
       "    <tr>\n",
       "      <th>2</th>\n",
       "      <td>Apple</td>\n",
       "      <td>2020 Macbook Air</td>\n",
       "      <td>M1</td>\n",
       "      <td>Mac OS</td>\n",
       "      <td>256</td>\n",
       "      <td>8</td>\n",
       "      <td>33.78</td>\n",
       "      <td>No</td>\n",
       "      <td>856.48</td>\n",
       "      <td>Mac</td>\n",
       "    </tr>\n",
       "    <tr>\n",
       "      <th>3</th>\n",
       "      <td>Apple</td>\n",
       "      <td>2020 Macbook Air</td>\n",
       "      <td>M1</td>\n",
       "      <td>Mac OS</td>\n",
       "      <td>256</td>\n",
       "      <td>8</td>\n",
       "      <td>33.78</td>\n",
       "      <td>No</td>\n",
       "      <td>856.48</td>\n",
       "      <td>Mac</td>\n",
       "    </tr>\n",
       "    <tr>\n",
       "      <th>4</th>\n",
       "      <td>Apple</td>\n",
       "      <td>2020 Macbook Air</td>\n",
       "      <td>M1</td>\n",
       "      <td>Mac OS</td>\n",
       "      <td>256</td>\n",
       "      <td>8</td>\n",
       "      <td>33.78</td>\n",
       "      <td>No</td>\n",
       "      <td>856.48</td>\n",
       "      <td>Mac</td>\n",
       "    </tr>\n",
       "  </tbody>\n",
       "</table>\n",
       "</div>"
      ],
      "text/plain": [
       "   Brand        Model Name Processor Operating System  Storage  RAM  \\\n",
       "0     HP      15s-fq5007TU   Core i3       Windows OS      512    8   \n",
       "1     HP      15s-fy5003TU   Core i3       Windows OS      512    8   \n",
       "2  Apple  2020 Macbook Air        M1           Mac OS      256    8   \n",
       "3  Apple  2020 Macbook Air        M1           Mac OS      256    8   \n",
       "4  Apple  2020 Macbook Air        M1           Mac OS      256    8   \n",
       "\n",
       "   Screen Size Touch_Screen   Price Processor Manufcaturer  \n",
       "0        39.62           No  470.41                  Intel  \n",
       "1        39.62           No  458.34                  Intel  \n",
       "2        33.78           No  856.48                    Mac  \n",
       "3        33.78           No  856.48                    Mac  \n",
       "4        33.78           No  856.48                    Mac  "
      ]
     },
     "execution_count": 453,
     "metadata": {},
     "output_type": "execute_result"
    }
   ],
   "source": [
    "data.head()"
   ]
  }
 ],
 "metadata": {
  "kernelspec": {
   "display_name": "base",
   "language": "python",
   "name": "python3"
  },
  "language_info": {
   "codemirror_mode": {
    "name": "ipython",
    "version": 3
   },
   "file_extension": ".py",
   "mimetype": "text/x-python",
   "name": "python",
   "nbconvert_exporter": "python",
   "pygments_lexer": "ipython3",
   "version": "3.11.5"
  }
 },
 "nbformat": 4,
 "nbformat_minor": 2
}
